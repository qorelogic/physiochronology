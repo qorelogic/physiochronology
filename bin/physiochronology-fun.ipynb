{
 "metadata": {
  "name": ""
 },
 "nbformat": 3,
 "nbformat_minor": 0,
 "worksheets": [
  {
   "cells": [
    {
     "cell_type": "code",
     "collapsed": false,
     "input": [
      "import numpy as n\n",
      "import pandas as p\n",
      "import StringIO\n",
      "\n",
      "base = 'http://introphysiochronology.blogspot.com'\n",
      "urls = []\n",
      "uri = '/2014/07/1st-year-stamp.html'\n",
      "\n",
      "t = \"\"\"\n",
      "/2014/07/1st-year-stamp.html,March 21st, December 21st, 1948, 1960, 1972, 1984,  1st Year,  1\n",
      "/2014/07/2nd-year-stamp.html,March 21st, December 21st, 1949, 1961, 1973, 1985,  2nd Year,  2\n",
      "/2014/07/2nd-year-stamp.html,March 21st, December 21st, 1950, 1962, 1974, 1986,  3rd Year,  3\n",
      "/2014/07/2nd-year-stamp.html,March 21st, December 21st, 1951, 1963, 1975, 1987,  4th Year,  4\n",
      "/2014/07/2nd-year-stamp.html,March 21st, December 21st, 1952, 1964, 1976, 1988,  5th Year,  5\n",
      "/2014/07/2nd-year-stamp.html,March 21st, December 21st, 1953, 1965, 1977, 1989,  6th Year,  6\n",
      "/2014/07/2nd-year-stamp.html,March 21st, December 21st, 1954, 1966, 1978, 1990,  7th Year,  7\n",
      "/2014/07/2nd-year-stamp.html,March 21st, December 21st, 1955, 1967, 1979, 1991,  8th Year,  8\n",
      "/2014/07/2nd-year-stamp.html,March 21st, December 21st, 1956, 1968, 1980, 1992,  9th Year,  9\n",
      "/2014/07/2nd-year-stamp.html,March 21st, December 21st, 1957, 1969, 1981, 1993, 10th Year, 10\n",
      "/2014/07/2nd-year-stamp.html,March 21st, December 21st, 1958, 1970, 1982, 1994, 11th Year, 11\n",
      "/2014/07/2nd-year-stamp.html,March 21st, December 21st, 1959, 1971, 1983, 1995, 12th Year, 12\n",
      "\"\"\"\n",
      "s = StringIO.StringIO()\n",
      "s.write(t)\n",
      "s.seek(0)\n",
      "ds = p.read_csv(s, header=None)\n",
      "s.close()\n",
      "\n",
      "#$x('//*[@class=\"post-body entry-content\"]/div/div//a/img/../@href')\n",
      "$x('//*[@class=\"post-body entry-content\"]/div/div//a/img').length\n",
      "for i in base+ds.ix[:,0]:\n",
      "    print i\n",
      "\n",
      "#img = mpimg.imread('/ml/bin/data/etoro/etoro.manapana.png')\n",
      "#print img\n",
      "#imgplot = plt.imshow(img)"
     ],
     "language": "python",
     "metadata": {},
     "outputs": [
      {
       "output_type": "stream",
       "stream": "stdout",
       "text": [
        "http://introphysiochronology.blogspot.com/2014/07/1st-year-stamp.html\n",
        "http://introphysiochronology.blogspot.com/2014/07/2nd-year-stamp.html\n",
        "http://introphysiochronology.blogspot.com/2014/07/2nd-year-stamp.html\n",
        "http://introphysiochronology.blogspot.com/2014/07/2nd-year-stamp.html\n",
        "http://introphysiochronology.blogspot.com/2014/07/2nd-year-stamp.html\n",
        "http://introphysiochronology.blogspot.com/2014/07/2nd-year-stamp.html\n",
        "http://introphysiochronology.blogspot.com/2014/07/2nd-year-stamp.html\n",
        "http://introphysiochronology.blogspot.com/2014/07/2nd-year-stamp.html\n",
        "http://introphysiochronology.blogspot.com/2014/07/2nd-year-stamp.html\n",
        "http://introphysiochronology.blogspot.com/2014/07/2nd-year-stamp.html\n",
        "http://introphysiochronology.blogspot.com/2014/07/2nd-year-stamp.html\n",
        "http://introphysiochronology.blogspot.com/2014/07/2nd-year-stamp.html\n"
       ]
      }
     ],
     "prompt_number": 60
    },
    {
     "cell_type": "code",
     "collapsed": false,
     "input": [],
     "language": "python",
     "metadata": {},
     "outputs": []
    }
   ],
   "metadata": {}
  }
 ]
}